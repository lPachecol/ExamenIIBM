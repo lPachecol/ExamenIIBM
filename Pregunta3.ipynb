{
 "cells": [
  {
   "cell_type": "code",
   "execution_count": 2,
   "id": "9241be85",
   "metadata": {},
   "outputs": [
    {
     "name": "stdout",
     "output_type": "stream",
     "text": [
      "x1 = -4.000000000000000\n",
      "x2 = -1.000000000000000\n",
      "x3 = 1.499999999999998\n",
      "x4 = nan\n",
      "x5 = nan\n",
      "x6 = nan\n"
     ]
    }
   ],
   "source": [
    "import numpy as np\n",
    "from scipy.optimize import bisect, newton\n",
    "\n",
    "def f(x):\n",
    "    return x**5 + 5.5*x**4 + 4.5*x**3 - 9.5*x**2 - 15.5*x - 6\n",
    "\n",
    "x1 = bisect(f, -5, -3)\n",
    "x2 = bisect(f, -2, 0)\n",
    "x3 = newton(f, 1.2)\n",
    "x4 = np.nan\n",
    "x5 = np.nan\n",
    "x6 = np.nan\n",
    "\n",
    "print(f\"x1 = {x1:.15f}\")\n",
    "print(f\"x2 = {x2:.15f}\")\n",
    "print(f\"x3 = {x3:.15f}\")\n",
    "print(f\"x4 = {x4}\")\n",
    "print(f\"x5 = {x5}\")\n",
    "print(f\"x6 = {x6}\")"
   ]
  }
 ],
 "metadata": {
  "kernelspec": {
   "display_name": "Python 3",
   "language": "python",
   "name": "python3"
  },
  "language_info": {
   "codemirror_mode": {
    "name": "ipython",
    "version": 3
   },
   "file_extension": ".py",
   "mimetype": "text/x-python",
   "name": "python",
   "nbconvert_exporter": "python",
   "pygments_lexer": "ipython3",
   "version": "3.13.3"
  }
 },
 "nbformat": 4,
 "nbformat_minor": 5
}
