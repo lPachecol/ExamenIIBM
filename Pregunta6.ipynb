{
 "cells": [
  {
   "cell_type": "code",
   "execution_count": 2,
   "id": "f4d626f5",
   "metadata": {},
   "outputs": [],
   "source": [
    "def gauss_jordan_inverse(A):\n",
    "    \"\"\"Calcula la inversa de una matriz cuadrada A usando el método de Gauss-Jordan.\"\"\"\n",
    "    import numpy as np\n",
    "\n",
    "    n = len(A)\n",
    "    A = np.array(A, dtype=float)\n",
    "    I = np.eye(n, dtype=float)\n",
    "    \n",
    "    for i in range(n):\n",
    "        if A[i, i] == 0:\n",
    "            for k in range(i + 1, n):\n",
    "                if A[k, i] != 0:\n",
    "                    A[[i, k]] = A[[k, i]]\n",
    "                    I[[i, k]] = I[[k, i]]\n",
    "                    break\n",
    "            else:\n",
    "                raise ValueError(\"La matriz no es invertible (pivote cero sin alternativas).\")\n",
    "\n",
    "        pivot = A[i, i]\n",
    "        A[i] = A[i] / pivot\n",
    "        I[i] = I[i] / pivot\n",
    "\n",
    "        for j in range(n):\n",
    "            if j != i:\n",
    "                factor = A[j, i]\n",
    "                A[j] = A[j] - factor * A[i]\n",
    "                I[j] = I[j] - factor * I[i]\n",
    "\n",
    "    return I"
   ]
  },
  {
   "cell_type": "code",
   "execution_count": 5,
   "id": "667aeef7",
   "metadata": {},
   "outputs": [
    {
     "name": "stdout",
     "output_type": "stream",
     "text": [
      "Inversa de A:\n",
      "[[-1. -3.]\n",
      " [-1. -2.]]\n"
     ]
    }
   ],
   "source": [
    "A = [[2, -3], [-1, 1]]\n",
    "invA = gauss_jordan_inverse(A)\n",
    "print(\"Inversa de A:\")\n",
    "print(invA)"
   ]
  },
  {
   "cell_type": "code",
   "execution_count": 6,
   "id": "cb78181c",
   "metadata": {},
   "outputs": [
    {
     "name": "stdout",
     "output_type": "stream",
     "text": [
      "Inversa de A:\n",
      "[[-36.  45.  60. -80.]\n",
      " [  3.  -4.  -5.   7.]\n",
      " [  9. -11. -15.  20.]\n",
      " [ 29. -36. -48.  64.]]\n"
     ]
    }
   ],
   "source": [
    "A = [\n",
    "    [4, 0, 0, 5],\n",
    "    [1, 0, 4, 0],\n",
    "    [3, 4, 1, 3],\n",
    "    [1, 3, 3, 0],\n",
    "]\n",
    "invA = gauss_jordan_inverse(A)\n",
    "print(\"Inversa de A:\")\n",
    "print(invA)"
   ]
  }
 ],
 "metadata": {
  "kernelspec": {
   "display_name": "Python 3",
   "language": "python",
   "name": "python3"
  },
  "language_info": {
   "codemirror_mode": {
    "name": "ipython",
    "version": 3
   },
   "file_extension": ".py",
   "mimetype": "text/x-python",
   "name": "python",
   "nbconvert_exporter": "python",
   "pygments_lexer": "ipython3",
   "version": "3.13.3"
  }
 },
 "nbformat": 4,
 "nbformat_minor": 5
}
